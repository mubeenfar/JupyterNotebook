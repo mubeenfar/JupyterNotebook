{
 "cells": [
  {
   "cell_type": "markdown",
   "id": "55aa2930-78f2-42fb-9d6a-4ca171a8fb5b",
   "metadata": {},
   "source": [
    "# Data Science Tools and Ecosystem"
   ]
  },
  {
   "cell_type": "markdown",
   "id": "d2c48067-2dc6-4a89-826f-b9503812662e",
   "metadata": {},
   "source": [
    "In this notebook, Data Science Tools and Ecosystems are summarized."
   ]
  },
  {
   "cell_type": "markdown",
   "id": "3754af1a-5610-4d17-9c34-58270c988f69",
   "metadata": {},
   "source": [
    "**Objectives:**"
   ]
  },
  {
   "cell_type": "markdown",
   "id": "c827901b-b739-4798-9e83-501e872ffc3c",
   "metadata": {},
   "source": [
    "+ Markdown Cells\n",
    "+ Data Science Tools\n",
    "+ Data Science Languages\n",
    "+ Jupyter notebook"
   ]
  },
  {
   "cell_type": "markdown",
   "id": "0a5bee4e-da27-4ce6-88ec-951618025541",
   "metadata": {},
   "source": [
    "Some of the popular languages that data scientists use are:\n",
    "    "
   ]
  },
  {
   "cell_type": "markdown",
   "id": "36f5b6f4-514d-4ce4-a2ca-f900bc294029",
   "metadata": {},
   "source": [
    "1. Python\n",
    "2. R\n",
    "3. SQL\n",
    "4. C++\n",
    "5. Julia"
   ]
  },
  {
   "cell_type": "markdown",
   "id": "768ab985-417b-48de-aadd-df82e8498966",
   "metadata": {},
   "source": [
    "Some of the commonly used libraries used by Data Scientists include:"
   ]
  },
  {
   "cell_type": "markdown",
   "id": "b7449e72-18a8-42a4-8864-597ac1983372",
   "metadata": {},
   "source": [
    "1. Tensorflow\n",
    "2. NumPy\n",
    "3. Pandas"
   ]
  },
  {
   "cell_type": "markdown",
   "id": "0cb1cd6d-61d2-46d3-bacd-e97806fdc060",
   "metadata": {},
   "source": [
    "| Data Science Tools |\n",
    "| ------------------ |\n",
    "| Apache Hadoop      |\n",
    "| Tensorflow         |\n",
    "| Tableau            |"
   ]
  },
  {
   "cell_type": "markdown",
   "id": "079cd508-51c5-42cf-99e9-52448c25d0c6",
   "metadata": {},
   "source": [
    "### Below are a few examples of evaluating arithmetic expressions in Python"
   ]
  },
  {
   "cell_type": "markdown",
   "id": "803944da-2702-437a-a8e4-97efa89d3a0f",
   "metadata": {},
   "source": [
    "This a simple arithmetic expression to mutiply then add integers"
   ]
  },
  {
   "cell_type": "code",
   "execution_count": 1,
   "id": "0b4fd9d0-069e-45c3-8e37-f68dc29dd8d9",
   "metadata": {
    "tags": []
   },
   "outputs": [
    {
     "data": {
      "text/plain": [
       "17"
      ]
     },
     "execution_count": 1,
     "metadata": {},
     "output_type": "execute_result"
    }
   ],
   "source": [
    "(3*4)+5"
   ]
  },
  {
   "cell_type": "markdown",
   "id": "8db3e573-7099-419f-949f-11fb9398daca",
   "metadata": {},
   "source": [
    "This will convert 200 minutes to hours by diving by 60"
   ]
  },
  {
   "cell_type": "code",
   "execution_count": 2,
   "id": "aa521dc2-1a9a-4999-b859-31b055c37cc5",
   "metadata": {
    "tags": []
   },
   "outputs": [
    {
     "data": {
      "text/plain": [
       "3.3333333333333335"
      ]
     },
     "execution_count": 2,
     "metadata": {},
     "output_type": "execute_result"
    }
   ],
   "source": [
    "200/60"
   ]
  },
  {
   "cell_type": "markdown",
   "id": "5dadd528-02a9-430c-9aeb-f9562d6207d3",
   "metadata": {},
   "source": [
    "## Author\n",
    "Mubeen Farooqui"
   ]
  },
  {
   "cell_type": "code",
   "execution_count": null,
   "id": "4a9e6516-5897-43a2-a5b1-38924002bb38",
   "metadata": {},
   "outputs": [],
   "source": []
  }
 ],
 "metadata": {
  "kernelspec": {
   "display_name": "Python",
   "language": "python",
   "name": "conda-env-python-py"
  },
  "language_info": {
   "codemirror_mode": {
    "name": "ipython",
    "version": 3
   },
   "file_extension": ".py",
   "mimetype": "text/x-python",
   "name": "python",
   "nbconvert_exporter": "python",
   "pygments_lexer": "ipython3",
   "version": "3.7.12"
  }
 },
 "nbformat": 4,
 "nbformat_minor": 5
}
